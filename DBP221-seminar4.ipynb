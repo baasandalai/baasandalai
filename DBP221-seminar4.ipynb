{
 "cells": [
  {
   "cell_type": "code",
   "execution_count": 1,
   "id": "450d1d16",
   "metadata": {},
   "outputs": [
    {
     "data": {
      "text/plain": [
       "array([50, 51, 52, 53, 54, 55, 56, 57, 58, 59, 60, 61, 62, 63, 64, 65, 66,\n",
       "       67, 68, 69, 70, 71, 72, 73, 74, 75, 76, 77, 78, 79, 80, 81, 82, 83,\n",
       "       84, 85, 86, 87, 88, 89, 90, 91, 92, 93, 94, 95, 96, 97, 98, 99])"
      ]
     },
     "execution_count": 1,
     "metadata": {},
     "output_type": "execute_result"
    }
   ],
   "source": [
    "#1 50-100 хүртэл тоон утга бүхий нэг хэмжээст массив (вектор) үүсгэ. \n",
    "import numpy as np\n",
    "A = np.arange(50,100)\n",
    "A"
   ]
  },
  {
   "cell_type": "code",
   "execution_count": 2,
   "id": "0c507f74",
   "metadata": {},
   "outputs": [
    {
     "data": {
      "text/plain": [
       "array([1., 1., 1., 1., 1., 1., 1., 1., 1., 1., 0., 0., 0., 0., 0., 0., 0.,\n",
       "       0., 0., 0., 6., 6., 6., 6., 6., 6., 6., 6., 6., 6.])"
      ]
     },
     "execution_count": 2,
     "metadata": {},
     "output_type": "execute_result"
    }
   ],
   "source": [
    "#2 Арван ширхэг 1, арван ширхэг 0, арван ширхэг 6 тоо бүхий нэг хэмжээст массивууд (вектор) үүсгэ.\n",
    "import numpy as np\n",
    "a=np.ones(10)\n",
    "b=np.zeros(10)\n",
    "c=np.ones(10)*6\n",
    "np.concatenate([a,b,c])"
   ]
  },
  {
   "cell_type": "code",
   "execution_count": 3,
   "id": "7becb34e",
   "metadata": {},
   "outputs": [
    {
     "data": {
      "text/plain": [
       "array([[20, 21, 22, 23],\n",
       "       [24, 25, 26, 27],\n",
       "       [28, 29, 30, 31]])"
      ]
     },
     "execution_count": 3,
     "metadata": {},
     "output_type": "execute_result"
    }
   ],
   "source": [
    "#3 20-32 хүртэл тоон утга бүхий 3x4 хэмжээтэй массив үүсгэ.\n",
    "import numpy as np\n",
    "a=np.arange(20,32).reshape((3,4))\n",
    "a\n"
   ]
  },
  {
   "cell_type": "code",
   "execution_count": 4,
   "id": "78535e17",
   "metadata": {},
   "outputs": [
    {
     "data": {
      "text/plain": [
       "array([[1., 0., 0.],\n",
       "       [0., 1., 0.],\n",
       "       [0., 0., 1.]])"
      ]
     },
     "execution_count": 4,
     "metadata": {},
     "output_type": "execute_result"
    }
   ],
   "source": [
    "#4 Диагональ нь 1-ийн тоо, бусад нь 0 байх 3x3 хэмжээтэй массив үүсгэ.\n",
    "import numpy as np\n",
    "a = np.eye(3,3)\n",
    "a"
   ]
  },
  {
   "cell_type": "code",
   "execution_count": 5,
   "id": "14aa3f91",
   "metadata": {},
   "outputs": [
    {
     "data": {
      "text/plain": [
       "array([[1, 0, 0, 0, 0],\n",
       "       [0, 2, 0, 0, 0],\n",
       "       [0, 0, 3, 0, 0],\n",
       "       [0, 0, 0, 4, 0],\n",
       "       [0, 0, 0, 0, 5]])"
      ]
     },
     "execution_count": 5,
     "metadata": {},
     "output_type": "execute_result"
    }
   ],
   "source": [
    "#5 Диагональ нь 1-5 хүртэл тоо, бусад нь 0 байх 5х5 хэмжээтэй массив үүсгэ.\n",
    "import numpy as np\n",
    "a = np.diag([1,2,3,4,5])\n",
    "a"
   ]
  },
  {
   "cell_type": "code",
   "execution_count": 6,
   "id": "067b54e5",
   "metadata": {},
   "outputs": [
    {
     "name": "stdout",
     "output_type": "stream",
     "text": [
      "[[-0.50451929  0.00573611]\n",
      " [ 1.16468271 -0.74616231]\n",
      " [-0.66612787 -0.43110033]\n",
      " [ 0.42314563  1.33568275]\n",
      " [ 0.53031978 -1.40027732]]\n",
      "-0.2886201392126806 [ 0.94750095 -1.23612109] [-0.49878318  0.4185204  -1.09722819  1.75882838 -0.86995754]\n"
     ]
    }
   ],
   "source": [
    "#6 Хоёр хэмжээстэй массив үүсгэж, нийт элементүүдийн нйилөэр, багана, мөрийн нийлбэрүүдийг хэвлэ.\n",
    "import numpy as np\n",
    "y=np.random.randn(5,2)\n",
    "print(y)\n",
    "a=np.sum(y)\n",
    "b=np.sum(y, axis=0)\n",
    "c=np.sum(y, axis=1)\n",
    "print(a,b,c)"
   ]
  },
  {
   "cell_type": "code",
   "execution_count": 12,
   "id": "843b0fe9",
   "metadata": {},
   "outputs": [
    {
     "name": "stdout",
     "output_type": "stream",
     "text": [
      "Баганы дагуу [-0.93200436 -2.90959875 -0.94454792 -3.71371145  3.01986957]\n",
      "Мөрийн дагуу [-3.22113817 -0.53233698 -2.45983067  3.38546103 -2.65214812]\n",
      "Баганы дагуу [ 2.68905114 -5.46369991 -3.23851943 -0.65912156  0.81973935]\n",
      "Мөрийн дагуу [-2.2835021  -1.3329578  -0.01037958 -1.16955335 -1.05615759]\n",
      "Баганы дагуу [-3.11550046 -0.59379329  3.00908635  2.1837971   3.73642728]\n",
      "Мөрийн дагуу [ 3.13162042 -0.97446845  1.05054476  0.43019085  1.58212939]\n",
      "Баганы дагуу [-0.43891773 -2.19728701 -0.83817537  0.74089716 -0.4018022 ]\n",
      "Мөрийн дагуу [-3.8227095  -0.35102769  0.5220447  -1.36186562  1.87827295]\n",
      "Баганы дагуу [-1.54134736 -1.68121739 -0.08794676  4.87830179  5.13661319]\n",
      "Мөрийн дагуу [ 3.99559794  2.85244818 -0.13220238 -2.3392688   2.32782853]\n",
      "Баганы дагуу [-0.22646987  2.27545655 -4.40925051 -1.12533669  3.6842468 ]\n",
      "Мөрийн дагуу [-3.25754122  2.67749246  1.26397755 -0.57559421  0.09031171]\n",
      "Баганы дагуу [-2.31756775 -2.19565559  1.32910351  2.40656266  2.11050072]\n",
      "Мөрийн дагуу [ 0.07866021  1.14666348 -0.52742739 -0.10804933  0.74309659]\n",
      "Баганы дагуу [ 1.63316891 -1.75259578 -1.445355   -1.41341906  5.80899225]\n",
      "Мөрийн дагуу [-0.73745346  2.38334848  2.22489448 -0.15666742 -0.88333076]\n",
      "Баганы дагуу [-2.84956105  2.64870872  3.03714657 -0.79243669  1.24870523]\n",
      "Мөрийн дагуу [ 0.92369398 -0.05261999  1.14587897  1.78690961 -0.5112998 ]\n",
      "Баганы дагуу [ 0.17656774 -1.48379691  2.31845281 -0.99039487 -3.12856999]\n",
      "Мөрийн дагуу [-2.63136077 -3.58962551  0.44180564 -0.96293539  3.6343748 ]\n"
     ]
    }
   ],
   "source": [
    "#7 Спортын сайтуудын мэдээллийг ашиглан хөл бөмбөгийн спортын дурын 10 тоглогчийн сүүлийн арван жилийн цалин, нийт тоглолт, оруулсан гоалуудын талаар мэдээллийг цуглуулж тус бүрээр массив үүсгэ. Үүсгэсэн массив тус бүрийн багана болон мөрүүдийн нийлбэрийг хэвлэ.\n",
    "import numpy as np\n",
    "Haaland = np.random.randn(5,5)\n",
    "Saka = np.random.randn(5,5)\n",
    "Jesus = np.random.randn(5,5)\n",
    "Martinelli = np.random.randn(5,5)\n",
    "Trossard = np.random.randn(5,5)\n",
    "Xhaka = np.random.randn(5,5)\n",
    "Martin = np.random.randn(5,5)\n",
    "Jojo = np.random.randn(5,5)\n",
    "Saliba = np.random.randn(5,5)\n",
    "Gabriel = np.random.randn(5,5)\n",
    "a=(Haaland,Saka,Jesus,Martinelli,Trossard,Xhaka,Martin,Jojo,Saliba,Gabriel)\n",
    "for i in a:\n",
    "    print(\"Баганы дагуу\", np.sum(i, axis=0))\n",
    "    print(\"Мөрийн дагуу\", np.sum(i, axis=1))"
   ]
  },
  {
   "cell_type": "code",
   "execution_count": null,
   "id": "24c82ff5",
   "metadata": {},
   "outputs": [],
   "source": []
  }
 ],
 "metadata": {
  "kernelspec": {
   "display_name": "Python 3 (ipykernel)",
   "language": "python",
   "name": "python3"
  },
  "language_info": {
   "codemirror_mode": {
    "name": "ipython",
    "version": 3
   },
   "file_extension": ".py",
   "mimetype": "text/x-python",
   "name": "python",
   "nbconvert_exporter": "python",
   "pygments_lexer": "ipython3",
   "version": "3.9.13"
  }
 },
 "nbformat": 4,
 "nbformat_minor": 5
}
